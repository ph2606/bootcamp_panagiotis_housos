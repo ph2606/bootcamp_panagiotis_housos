{
 "cells": [
  {
   "cell_type": "markdown",
   "id": "9159ee18-76cf-475d-b6ef-2ed813c72414",
   "metadata": {},
   "source": [
    "# HW03 — Python Fundamentals\n",
    "Stage 03 steps: NumPy ops, dataset load/inspect, summary stats, groupby, save outputs, reusable functions.\n"
   ]
  },
  {
   "cell_type": "code",
   "execution_count": null,
   "id": "ea72c1c1-ea7d-4ca9-b014-14e7e384546c",
   "metadata": {},
   "outputs": [],
   "source": []
  }
 ],
 "metadata": {
  "kernelspec": {
   "display_name": "Python 3 (ipykernel)",
   "language": "python",
   "name": "python3"
  },
  "language_info": {
   "codemirror_mode": {
    "name": "ipython",
    "version": 3
   },
   "file_extension": ".py",
   "mimetype": "text/x-python",
   "name": "python",
   "nbconvert_exporter": "python",
   "pygments_lexer": "ipython3",
   "version": "3.12.5"
  }
 },
 "nbformat": 4,
 "nbformat_minor": 5
}
