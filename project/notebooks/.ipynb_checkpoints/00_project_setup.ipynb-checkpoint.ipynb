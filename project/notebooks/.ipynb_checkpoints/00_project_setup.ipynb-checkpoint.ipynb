{
 "cells": [
  {
   "cell_type": "markdown",
   "id": "b53c8d02-36b0-442a-85f1-4d9315a491d0",
   "metadata": {},
   "source": [
    "# Environment & Config Check"
   ]
  },
  {
   "cell_type": "code",
   "execution_count": 2,
   "id": "d7f9fdf2-9731-459b-a449-6dab9174ab88",
   "metadata": {},
   "outputs": [
    {
     "name": "stdout",
     "output_type": "stream",
     "text": [
      "API_KEY present: True\n",
      "DATA_DIR: ./data\n"
     ]
    }
   ],
   "source": [
    "from dotenv import load_dotenv\n",
    "import os\n",
    "\n",
    "# Load .env and confirm presence of API_KEY\n",
    "load_dotenv()  # reads .env in repo root\n",
    "print(\"API_KEY present:\", bool(os.getenv(\"API_KEY\")))\n",
    "print(\"DATA_DIR:\", os.getenv(\"DATA_DIR\"))\n"
   ]
  },
  {
   "cell_type": "code",
   "execution_count": null,
   "id": "8ff5a2d8-3858-494a-8358-c17eafebd788",
   "metadata": {},
   "outputs": [],
   "source": []
  }
 ],
 "metadata": {
  "kernelspec": {
   "display_name": "Python 3 (ipykernel)",
   "language": "python",
   "name": "python3"
  },
  "language_info": {
   "codemirror_mode": {
    "name": "ipython",
    "version": 3
   },
   "file_extension": ".py",
   "mimetype": "text/x-python",
   "name": "python",
   "nbconvert_exporter": "python",
   "pygments_lexer": "ipython3",
   "version": "3.12.5"
  }
 },
 "nbformat": 4,
 "nbformat_minor": 5
}
