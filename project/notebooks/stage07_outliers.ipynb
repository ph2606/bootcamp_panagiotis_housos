{
 "cells": [
  {
   "cell_type": "markdown",
   "id": "5c90723d-0b6b-45a6-a38c-0ba66bcf0f00",
   "metadata": {},
   "source": [
    "# Stage 07 — Outliers & Risk Assumptions (ASML)\n",
    "IQR / Z-score detection, winsorizing, sensitivity analysis, and assumptions."
   ]
  },
  {
   "cell_type": "code",
   "execution_count": null,
   "id": "8e2e9216-7e6c-4538-be7b-22e69db29746",
   "metadata": {},
   "outputs": [],
   "source": [
    "Imports, paths"
   ]
  },
  {
   "cell_type": "code",
   "execution_count": 1,
   "id": "0fc649d5-e0a7-4e7c-b24c-35c76d1b17b5",
   "metadata": {},
   "outputs": [
    {
     "data": {
      "text/plain": [
       "(WindowsPath('C:/Users/melin/OneDrive/Desktop/nyu/python/bootcamp_panagiotis_housos/project/data/raw'),\n",
       " WindowsPath('C:/Users/melin/OneDrive/Desktop/nyu/python/bootcamp_panagiotis_housos/project/data/processed'),\n",
       " WindowsPath('C:/Users/melin/OneDrive/Desktop/nyu/python/bootcamp_panagiotis_housos/project/data/processed/outliers'))"
      ]
     },
     "execution_count": 1,
     "metadata": {},
     "output_type": "execute_result"
    }
   ],
   "source": [
    "from __future__ import annotations\n",
    "import sys\n",
    "from pathlib import Path\n",
    "from datetime import datetime\n",
    "\n",
    "import numpy as np\n",
    "import pandas as pd\n",
    "import matplotlib.pyplot as plt\n",
    "from dotenv import load_dotenv\n",
    "\n",
    "# Resolve project root when running from project/notebooks\n",
    "project_root = Path.cwd().resolve().parents[0] if Path.cwd().name == \"notebooks\" else Path.cwd().resolve()\n",
    "sys.path.append(str(project_root / \"src\"))\n",
    "\n",
    "load_dotenv(project_root / \".env\")\n",
    "\n",
    "from storage import env_paths, read_df, write_df\n",
    "from outliers import detect_outliers_iqr, detect_outliers_zscore, winsorize_series\n",
    "\n",
    "RAW_DIR, PROC_DIR = env_paths(project_root)\n",
    "OUT_DIR = PROC_DIR / \"outliers\"\n",
    "OUT_DIR.mkdir(parents=True, exist_ok=True)\n",
    "\n",
    "def stamp(): return datetime.now().strftime(\"%Y%m%d-%H%M\")\n",
    "RAW_DIR, PROC_DIR, OUT_DIR\n"
   ]
  },
  {
   "cell_type": "markdown",
   "id": "ea2ee87b-a7e6-4bcc-96c5-d79588509167",
   "metadata": {},
   "source": [
    "Load data & create a returns series"
   ]
  },
  {
   "cell_type": "code",
   "execution_count": 2,
   "id": "468330bc-8dec-44e9-9239-329bfe1c3c24",
   "metadata": {},
   "outputs": [
    {
     "name": "stdout",
     "output_type": "stream",
     "text": [
      "Using CLEANED file: asml_cleaned_20250818-2218.csv\n"
     ]
    },
    {
     "data": {
      "text/html": [
       "<div>\n",
       "<style scoped>\n",
       "    .dataframe tbody tr th:only-of-type {\n",
       "        vertical-align: middle;\n",
       "    }\n",
       "\n",
       "    .dataframe tbody tr th {\n",
       "        vertical-align: top;\n",
       "    }\n",
       "\n",
       "    .dataframe thead th {\n",
       "        text-align: right;\n",
       "    }\n",
       "</style>\n",
       "<table border=\"1\" class=\"dataframe\">\n",
       "  <thead>\n",
       "    <tr style=\"text-align: right;\">\n",
       "      <th></th>\n",
       "      <th>date</th>\n",
       "      <th>adjusted_close</th>\n",
       "      <th>ret</th>\n",
       "    </tr>\n",
       "  </thead>\n",
       "  <tbody>\n",
       "    <tr>\n",
       "      <th>0</th>\n",
       "      <td>2020-08-18</td>\n",
       "      <td>363.675568</td>\n",
       "      <td>-0.003408</td>\n",
       "    </tr>\n",
       "    <tr>\n",
       "      <th>1</th>\n",
       "      <td>2020-08-19</td>\n",
       "      <td>361.477417</td>\n",
       "      <td>-0.006044</td>\n",
       "    </tr>\n",
       "    <tr>\n",
       "      <th>2</th>\n",
       "      <td>2020-08-20</td>\n",
       "      <td>358.806976</td>\n",
       "      <td>-0.007388</td>\n",
       "    </tr>\n",
       "    <tr>\n",
       "      <th>3</th>\n",
       "      <td>2020-08-21</td>\n",
       "      <td>358.758667</td>\n",
       "      <td>-0.000135</td>\n",
       "    </tr>\n",
       "    <tr>\n",
       "      <th>4</th>\n",
       "      <td>2020-08-24</td>\n",
       "      <td>364.417908</td>\n",
       "      <td>0.015775</td>\n",
       "    </tr>\n",
       "  </tbody>\n",
       "</table>\n",
       "</div>"
      ],
      "text/plain": [
       "        date  adjusted_close       ret\n",
       "0 2020-08-18      363.675568 -0.003408\n",
       "1 2020-08-19      361.477417 -0.006044\n",
       "2 2020-08-20      358.806976 -0.007388\n",
       "3 2020-08-21      358.758667 -0.000135\n",
       "4 2020-08-24      364.417908  0.015775"
      ]
     },
     "execution_count": 2,
     "metadata": {},
     "output_type": "execute_result"
    }
   ],
   "source": [
    "# Prefer cleaned processed file if available, else fall back to latest raw API file\n",
    "clean_candidates = sorted(PROC_DIR.glob(\"asml_cleaned_*.parquet\")) + sorted(PROC_DIR.glob(\"asml_cleaned_*.csv\"))\n",
    "raw_candidates = sorted(RAW_DIR.glob(\"api_*ASML_*.csv\"))\n",
    "\n",
    "if clean_candidates:\n",
    "    src_path = clean_candidates[-1]\n",
    "    print(\"Using CLEANED file:\", src_path.name)\n",
    "    df = read_df(src_path, parse_dates=[\"date\"])\n",
    "elif raw_candidates:\n",
    "    src_path = raw_candidates[-1]\n",
    "    print(\"Using RAW file:\", src_path.name)\n",
    "    df = read_df(src_path, parse_dates=[\"date\"])\n",
    "else:\n",
    "    raise FileNotFoundError(\"No ASML files found. Run Stage 04/06 first.\")\n",
    "\n",
    "# Build a simple return series (use adjusted_close if present)\n",
    "price_col = \"adjusted_close\" if \"adjusted_close\" in df.columns else \"close\"\n",
    "df = df.sort_values(\"date\").reset_index(drop=True)\n",
    "df[\"ret\"] = df[price_col].pct_change()\n",
    "df = df.dropna(subset=[\"ret\"]).reset_index(drop=True)\n",
    "\n",
    "df[[\"date\", price_col, \"ret\"]].head()\n"
   ]
  },
  {
   "cell_type": "markdown",
   "id": "d14ef909-fb4d-4806-a788-a97939a9efe0",
   "metadata": {},
   "source": [
    "Detect outliers (IQR + Z-score) and winsorize"
   ]
  },
  {
   "cell_type": "code",
   "execution_count": 3,
   "id": "d0aeb943-ce11-4dd5-b10b-59ff6086b335",
   "metadata": {},
   "outputs": [
    {
     "name": "stdout",
     "output_type": "stream",
     "text": [
      "IQR bounds: [-0.057421, 0.060337]  | flagged: 46\n",
      "Z-score: mu=0.000906, sd=0.026071 | flagged: 11\n",
      "Any outlier flagged: 46\n",
      "Winsorized to quantiles [-0.065780, 0.065199]\n"
     ]
    },
    {
     "data": {
      "text/html": [
       "<div>\n",
       "<style scoped>\n",
       "    .dataframe tbody tr th:only-of-type {\n",
       "        vertical-align: middle;\n",
       "    }\n",
       "\n",
       "    .dataframe tbody tr th {\n",
       "        vertical-align: top;\n",
       "    }\n",
       "\n",
       "    .dataframe thead th {\n",
       "        text-align: right;\n",
       "    }\n",
       "</style>\n",
       "<table border=\"1\" class=\"dataframe\">\n",
       "  <thead>\n",
       "    <tr style=\"text-align: right;\">\n",
       "      <th></th>\n",
       "      <th>date</th>\n",
       "      <th>ret</th>\n",
       "      <th>outlier_iqr</th>\n",
       "      <th>outlier_z</th>\n",
       "      <th>outlier_any</th>\n",
       "      <th>ret_winsor</th>\n",
       "    </tr>\n",
       "  </thead>\n",
       "  <tbody>\n",
       "    <tr>\n",
       "      <th>0</th>\n",
       "      <td>2020-08-18</td>\n",
       "      <td>-0.003408</td>\n",
       "      <td>False</td>\n",
       "      <td>False</td>\n",
       "      <td>False</td>\n",
       "      <td>-0.003408</td>\n",
       "    </tr>\n",
       "    <tr>\n",
       "      <th>1</th>\n",
       "      <td>2020-08-19</td>\n",
       "      <td>-0.006044</td>\n",
       "      <td>False</td>\n",
       "      <td>False</td>\n",
       "      <td>False</td>\n",
       "      <td>-0.006044</td>\n",
       "    </tr>\n",
       "    <tr>\n",
       "      <th>2</th>\n",
       "      <td>2020-08-20</td>\n",
       "      <td>-0.007388</td>\n",
       "      <td>False</td>\n",
       "      <td>False</td>\n",
       "      <td>False</td>\n",
       "      <td>-0.007388</td>\n",
       "    </tr>\n",
       "    <tr>\n",
       "      <th>3</th>\n",
       "      <td>2020-08-21</td>\n",
       "      <td>-0.000135</td>\n",
       "      <td>False</td>\n",
       "      <td>False</td>\n",
       "      <td>False</td>\n",
       "      <td>-0.000135</td>\n",
       "    </tr>\n",
       "    <tr>\n",
       "      <th>4</th>\n",
       "      <td>2020-08-24</td>\n",
       "      <td>0.015775</td>\n",
       "      <td>False</td>\n",
       "      <td>False</td>\n",
       "      <td>False</td>\n",
       "      <td>0.015775</td>\n",
       "    </tr>\n",
       "  </tbody>\n",
       "</table>\n",
       "</div>"
      ],
      "text/plain": [
       "        date       ret  outlier_iqr  outlier_z  outlier_any  ret_winsor\n",
       "0 2020-08-18 -0.003408        False      False        False   -0.003408\n",
       "1 2020-08-19 -0.006044        False      False        False   -0.006044\n",
       "2 2020-08-20 -0.007388        False      False        False   -0.007388\n",
       "3 2020-08-21 -0.000135        False      False        False   -0.000135\n",
       "4 2020-08-24  0.015775        False      False        False    0.015775"
      ]
     },
     "execution_count": 3,
     "metadata": {},
     "output_type": "execute_result"
    }
   ],
   "source": [
    "iqr_mask, (lb, ub) = detect_outliers_iqr(df[\"ret\"], k=1.5)\n",
    "z_mask, (mu, sd)   = detect_outliers_zscore(df[\"ret\"], threshold=3.0)\n",
    "any_mask = iqr_mask | z_mask\n",
    "\n",
    "ret_win, (ql, qh)  = winsorize_series(df[\"ret\"], lower=0.01, upper=0.99)\n",
    "\n",
    "print(f\"IQR bounds: [{lb:.6f}, {ub:.6f}]  | flagged: {iqr_mask.sum()}\")\n",
    "print(f\"Z-score: mu={mu:.6f}, sd={sd:.6f} | flagged: {z_mask.sum()}\")\n",
    "print(f\"Any outlier flagged: {any_mask.sum()}\")\n",
    "print(f\"Winsorized to quantiles [{ql:.6f}, {qh:.6f}]\")\n",
    "\n",
    "df_flags = df[[\"date\", \"ret\"]].copy()\n",
    "df_flags[\"outlier_iqr\"] = iqr_mask.values\n",
    "df_flags[\"outlier_z\"]   = z_mask.values\n",
    "df_flags[\"outlier_any\"] = any_mask.values\n",
    "df_flags[\"ret_winsor\"]  = ret_win.values\n",
    "\n",
    "df_flags.head()\n"
   ]
  },
  {
   "cell_type": "markdown",
   "id": "6711dd1d-091e-493a-92cd-dd418b618bf8",
   "metadata": {},
   "source": [
    "Sensitivity: summary stats table (all / filtered / winsorized)"
   ]
  },
  {
   "cell_type": "code",
   "execution_count": 4,
   "id": "8635d26e-58bc-43af-97b9-22b340dab03b",
   "metadata": {},
   "outputs": [
    {
     "data": {
      "text/html": [
       "<div>\n",
       "<style scoped>\n",
       "    .dataframe tbody tr th:only-of-type {\n",
       "        vertical-align: middle;\n",
       "    }\n",
       "\n",
       "    .dataframe tbody tr th {\n",
       "        vertical-align: top;\n",
       "    }\n",
       "\n",
       "    .dataframe thead th {\n",
       "        text-align: right;\n",
       "    }\n",
       "</style>\n",
       "<table border=\"1\" class=\"dataframe\">\n",
       "  <thead>\n",
       "    <tr style=\"text-align: right;\">\n",
       "      <th></th>\n",
       "      <th>all</th>\n",
       "      <th>filtered_no_outliers</th>\n",
       "      <th>winsorized</th>\n",
       "    </tr>\n",
       "  </thead>\n",
       "  <tbody>\n",
       "    <tr>\n",
       "      <th>count</th>\n",
       "      <td>1255.000000</td>\n",
       "      <td>1209.000000</td>\n",
       "      <td>1255.000000</td>\n",
       "    </tr>\n",
       "    <tr>\n",
       "      <th>mean</th>\n",
       "      <td>0.000906</td>\n",
       "      <td>0.001157</td>\n",
       "      <td>0.000820</td>\n",
       "    </tr>\n",
       "    <tr>\n",
       "      <th>median</th>\n",
       "      <td>0.000770</td>\n",
       "      <td>0.000795</td>\n",
       "      <td>0.000770</td>\n",
       "    </tr>\n",
       "    <tr>\n",
       "      <th>std</th>\n",
       "      <td>0.026081</td>\n",
       "      <td>0.021540</td>\n",
       "      <td>0.024444</td>\n",
       "    </tr>\n",
       "    <tr>\n",
       "      <th>min</th>\n",
       "      <td>-0.162610</td>\n",
       "      <td>-0.056571</td>\n",
       "      <td>-0.065780</td>\n",
       "    </tr>\n",
       "    <tr>\n",
       "      <th>max</th>\n",
       "      <td>0.154341</td>\n",
       "      <td>0.059507</td>\n",
       "      <td>0.065199</td>\n",
       "    </tr>\n",
       "  </tbody>\n",
       "</table>\n",
       "</div>"
      ],
      "text/plain": [
       "                all  filtered_no_outliers   winsorized\n",
       "count   1255.000000           1209.000000  1255.000000\n",
       "mean       0.000906              0.001157     0.000820\n",
       "median     0.000770              0.000795     0.000770\n",
       "std        0.026081              0.021540     0.024444\n",
       "min       -0.162610             -0.056571    -0.065780\n",
       "max        0.154341              0.059507     0.065199"
      ]
     },
     "execution_count": 4,
     "metadata": {},
     "output_type": "execute_result"
    }
   ],
   "source": [
    "def summary_stats(x: pd.Series) -> pd.Series:\n",
    "    return pd.Series({\n",
    "        \"count\": x.count(),\n",
    "        \"mean\":  x.mean(),\n",
    "        \"median\":x.median(),\n",
    "        \"std\":   x.std(),\n",
    "        \"min\":   x.min(),\n",
    "        \"max\":   x.max(),\n",
    "    })\n",
    "\n",
    "all_stats       = summary_stats(df_flags[\"ret\"])\n",
    "filtered_stats  = summary_stats(df_flags.loc[~df_flags[\"outlier_any\"], \"ret\"])\n",
    "winsor_stats    = summary_stats(df_flags[\"ret_winsor\"])\n",
    "\n",
    "sens = pd.concat(\n",
    "    [all_stats.rename(\"all\"), filtered_stats.rename(\"filtered_no_outliers\"), winsor_stats.rename(\"winsorized\")],\n",
    "    axis=1\n",
    ")\n",
    "sens\n"
   ]
  },
  {
   "cell_type": "markdown",
   "id": "b58a6087-d8b5-4bee-b739-240283c5da8a",
   "metadata": {},
   "source": [
    "Sensitivity: simple AR(1) regression on returns"
   ]
  },
  {
   "cell_type": "code",
   "execution_count": 5,
   "id": "8cd0db7f-b428-48c1-bf93-de9c62d15ffc",
   "metadata": {},
   "outputs": [
    {
     "data": {
      "text/html": [
       "<div>\n",
       "<style scoped>\n",
       "    .dataframe tbody tr th:only-of-type {\n",
       "        vertical-align: middle;\n",
       "    }\n",
       "\n",
       "    .dataframe tbody tr th {\n",
       "        vertical-align: top;\n",
       "    }\n",
       "\n",
       "    .dataframe thead th {\n",
       "        text-align: right;\n",
       "    }\n",
       "</style>\n",
       "<table border=\"1\" class=\"dataframe\">\n",
       "  <thead>\n",
       "    <tr style=\"text-align: right;\">\n",
       "      <th></th>\n",
       "      <th>n</th>\n",
       "      <th>alpha</th>\n",
       "      <th>beta_lag1</th>\n",
       "      <th>r2</th>\n",
       "      <th>mae</th>\n",
       "    </tr>\n",
       "  </thead>\n",
       "  <tbody>\n",
       "    <tr>\n",
       "      <th>all</th>\n",
       "      <td>1254</td>\n",
       "      <td>0.000961</td>\n",
       "      <td>-0.055787</td>\n",
       "      <td>0.003111</td>\n",
       "      <td>0.019134</td>\n",
       "    </tr>\n",
       "    <tr>\n",
       "      <th>filtered_no_outliers</th>\n",
       "      <td>1208</td>\n",
       "      <td>0.001218</td>\n",
       "      <td>-0.048656</td>\n",
       "      <td>0.002366</td>\n",
       "      <td>0.016978</td>\n",
       "    </tr>\n",
       "    <tr>\n",
       "      <th>winsorized</th>\n",
       "      <td>1254</td>\n",
       "      <td>0.000870</td>\n",
       "      <td>-0.055941</td>\n",
       "      <td>0.003128</td>\n",
       "      <td>0.018688</td>\n",
       "    </tr>\n",
       "  </tbody>\n",
       "</table>\n",
       "</div>"
      ],
      "text/plain": [
       "                         n     alpha  beta_lag1        r2       mae\n",
       "all                   1254  0.000961  -0.055787  0.003111  0.019134\n",
       "filtered_no_outliers  1208  0.001218  -0.048656  0.002366  0.016978\n",
       "winsorized            1254  0.000870  -0.055941  0.003128  0.018688"
      ]
     },
     "execution_count": 5,
     "metadata": {},
     "output_type": "execute_result"
    }
   ],
   "source": [
    "def ar1_metrics(ret: pd.Series) -> dict:\n",
    "    r = ret.dropna().to_numpy()\n",
    "    if r.size < 3:\n",
    "        return {\"n\": r.size, \"alpha\": np.nan, \"beta_lag1\": np.nan, \"r2\": np.nan, \"mae\": np.nan}\n",
    "    y = r[1:]\n",
    "    x = r[:-1]\n",
    "    X = np.c_[np.ones_like(x), x]  # intercept + lag1\n",
    "    beta, *_ = np.linalg.lstsq(X, y, rcond=None)\n",
    "    y_hat = X @ beta\n",
    "    resid = y - y_hat\n",
    "    ss_res = np.sum(resid**2)\n",
    "    ss_tot = np.sum((y - y.mean())**2) if y.size else np.nan\n",
    "    r2 = 1 - ss_res/ss_tot if ss_tot and not np.isnan(ss_tot) else np.nan\n",
    "    mae = np.mean(np.abs(resid))\n",
    "    return {\"n\": y.size, \"alpha\": beta[0], \"beta_lag1\": beta[1], \"r2\": r2, \"mae\": mae}\n",
    "\n",
    "ar_all   = ar1_metrics(df_flags[\"ret\"])\n",
    "ar_filt  = ar1_metrics(df_flags.loc[~df_flags[\"outlier_any\"], \"ret\"])\n",
    "ar_wins  = ar1_metrics(df_flags[\"ret_winsor\"])\n",
    "\n",
    "ar_table = pd.DataFrame([ar_all, ar_filt, ar_wins], index=[\"all\", \"filtered_no_outliers\", \"winsorized\"])\n",
    "ar_table\n"
   ]
  },
  {
   "cell_type": "markdown",
   "id": "f59a136e-07b8-4057-ae27-c0a5a2488c5b",
   "metadata": {},
   "source": [
    "Plots: boxplots & time-series (visual comparison)"
   ]
  },
  {
   "cell_type": "code",
   "execution_count": 6,
   "id": "47dd4492-7cbe-40c8-80d8-f7b14b46490d",
   "metadata": {},
   "outputs": [
    {
     "name": "stderr",
     "output_type": "stream",
     "text": [
      "C:\\Users\\melin\\AppData\\Local\\Temp\\ipykernel_14512\\1459969390.py:2: MatplotlibDeprecationWarning: The 'labels' parameter of boxplot() has been renamed 'tick_labels' since Matplotlib 3.9; support for the old name will be dropped in 3.11.\n",
      "  plt.boxplot([df_flags[\"ret\"], df_flags[\"ret_winsor\"]], labels=[\"ret\", \"ret_winsor\"])\n"
     ]
    },
    {
     "data": {
      "image/png": "[encoded data removed]",
      "text/plain": [
       "<Figure size 640x480 with 1 Axes>"
      ]
     },
     "metadata": {},
     "output_type": "display_data"
    },
    {
     "data": {
      "image/png": "[encoded data removed]",
      "text/plain": [
       "<Figure size 640x480 with 1 Axes>"
      ]
     },
     "metadata": {},
     "output_type": "display_data"
    }
   ],
   "source": [
    "fig1 = plt.figure()\n",
    "plt.boxplot([df_flags[\"ret\"], df_flags[\"ret_winsor\"]], labels=[\"ret\", \"ret_winsor\"])\n",
    "plt.title(\"Returns: Original vs Winsorized\")\n",
    "plt.ylabel(\"return\")\n",
    "plt.show()\n",
    "\n",
    "fig2 = plt.figure()\n",
    "subset = df_flags.tail(250)  # last ~year of daily data\n",
    "plt.plot(subset[\"date\"], subset[\"ret\"], label=\"ret\", linewidth=1)\n",
    "plt.plot(subset[\"date\"], subset[\"ret_winsor\"], label=\"ret_winsor\", linewidth=1)\n",
    "plt.legend()\n",
    "plt.title(\"Recent returns: raw vs winsorized\")\n",
    "plt.xlabel(\"date\"); plt.ylabel(\"return\")\n",
    "plt.show()\n"
   ]
  },
  {
   "cell_type": "markdown",
   "id": "adcf8c00-63f3-4c6c-9359-5e8428156dc1",
   "metadata": {},
   "source": [
    "Save outputs (flags + sensitivity tables)"
   ]
  },
  {
   "cell_type": "code",
   "execution_count": 7,
   "id": "a3ce5d41-9d6c-4021-9dc8-702764328188",
   "metadata": {},
   "outputs": [
    {
     "data": {
      "text/plain": [
       "(WindowsPath('C:/Users/melin/OneDrive/Desktop/nyu/python/bootcamp_panagiotis_housos/project/data/processed/outliers/asml_outlier_flags_20250819-2357.csv'),\n",
       " WindowsPath('C:/Users/melin/OneDrive/Desktop/nyu/python/bootcamp_panagiotis_housos/project/data/processed/outliers/asml_outlier_sensitivity_20250819-2357.csv'),\n",
       " WindowsPath('C:/Users/melin/OneDrive/Desktop/nyu/python/bootcamp_panagiotis_housos/project/data/processed/outliers/asml_outlier_ar1_20250819-2357.csv'))"
      ]
     },
     "execution_count": 7,
     "metadata": {},
     "output_type": "execute_result"
    }
   ],
   "source": [
    "flags_path = OUT_DIR / f\"asml_outlier_flags_{stamp()}.csv\"\n",
    "sens_path  = OUT_DIR / f\"asml_outlier_sensitivity_{stamp()}.csv\"\n",
    "ar_path    = OUT_DIR / f\"asml_outlier_ar1_{stamp()}.csv\"\n",
    "\n",
    "df_flags.to_csv(flags_path, index=False)\n",
    "sens.to_csv(sens_path)\n",
    "ar_table.to_csv(ar_path)\n",
    "\n",
    "flags_path, sens_path, ar_path"
   ]
  },
  {
   "cell_type": "markdown",
   "id": "83a7f9aa-9e4b-44c8-94ce-b8401e823784",
   "metadata": {},
   "source": [
    "Reflection (≤1 page, markdown)"
   ]
  },
  {
   "cell_type": "markdown",
   "id": "41c207c6-42c9-4fdf-b6d7-6e98ff116420",
   "metadata": {},
   "source": [
    "## Reflection — Outliers & Risk Assumptions\n",
    "\n",
    "**Methods & thresholds chosen**\n",
    "- IQR with k=1.5 (boxplot convention) and Z-score with threshold=3.0.\n",
    "- Winsorizing at 1%/99% to reduce leverage from extreme tails while preserving row count.\n",
    "\n",
    "**Assumptions**\n",
    "- Daily ASML returns have heavy tails; extreme moves are rare but real. The IQR rule is robust to skew, and Z>3 flags extreme deviations.\n",
    "- Winsorizing is for modeling stability (not for forensic analysis).\n",
    "\n",
    "**Observed impacts**\n",
    "- Summary table shows std decreases after filtering/winsorizing.\n",
    "- AR(1) fit: coefficients and MAE change modestly; winsorizing reduces MAE slightly (less leverage from extremes).\n",
    "\n",
    "**Risks if assumptions are wrong**\n",
    "- Removing extremes might delete the signal we want (event risk is economic reality).\n",
    "- Thresholds are judgment calls; different k / quantiles could change results.\n",
    "- For production, thresholds should be monitored and justified with domain context (e.g., event calendars).\n"
   ]
  },
  {
   "cell_type": "code",
   "execution_count": null,
   "id": "d338d965-69f5-47a1-9e42-9a52adc6ec55",
   "metadata": {},
   "outputs": [],
   "source": []
  }
 ],
 "metadata": {
  "kernelspec": {
   "display_name": "Python (ASML env)",
   "language": "python",
   "name": "asml-project"
  },
  "language_info": {
   "codemirror_mode": {
    "name": "ipython",
    "version": 3
   },
   "file_extension": ".py",
   "mimetype": "text/x-python",
   "name": "python",
   "nbconvert_exporter": "python",
   "pygments_lexer": "ipython3",
   "version": "3.12.5"
  }
 },
 "nbformat": 4,
 "nbformat_minor": 5
}
