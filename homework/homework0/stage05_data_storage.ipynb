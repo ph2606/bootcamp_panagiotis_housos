{
 "cells": [
  {
   "cell_type": "markdown",
   "id": "1660625f-6d89-4c9d-a460-d261640e7224",
   "metadata": {},
   "source": [
    "# Stage 05 — Data Storage (CSV + Parquet, env-driven paths)\n"
   ]
  },
  {
   "cell_type": "markdown",
   "id": "1b2a2885-d0bc-4b98-82d5-29ab09802704",
   "metadata": {},
   "source": [
    "Imports & env paths"
   ]
  },
  {
   "cell_type": "code",
   "execution_count": 1,
   "id": "d682ceae-d84b-45d2-b8f8-57f772e7dc6d",
   "metadata": {},
   "outputs": [
    {
     "name": "stdout",
     "output_type": "stream",
     "text": [
      "RAW_DIR: C:\\Users\\melin\\OneDrive\\Desktop\\nyu\\python\\bootcamp_panagiotis_housos\\project\\data\\raw\n",
      "PROC_DIR: C:\\Users\\melin\\OneDrive\\Desktop\\nyu\\python\\bootcamp_panagiotis_housos\\project\\data\\processed\n"
     ]
    }
   ],
   "source": [
    "from __future__ import annotations\n",
    "import os, sys, glob\n",
    "from pathlib import Path\n",
    "from datetime import datetime\n",
    "\n",
    "import pandas as pd\n",
    "from dotenv import load_dotenv\n",
    "\n",
    "# Resolve project_root when running from project/notebooks\n",
    "project_root = Path.cwd().resolve().parents[0] if Path.cwd().name == \"notebooks\" else Path.cwd().resolve()\n",
    "sys.path.append(str(project_root / \"src\"))\n",
    "\n",
    "load_dotenv(project_root / \".env\")\n",
    "\n",
    "from storage import env_paths, write_df, read_df\n",
    "\n",
    "RAW_DIR, PROC_DIR = env_paths(project_root)\n",
    "print(\"RAW_DIR:\", RAW_DIR)\n",
    "print(\"PROC_DIR:\", PROC_DIR)\n",
    "\n",
    "def stamp():\n",
    "    return datetime.now().strftime(\"%Y%m%d-%H%M\")\n"
   ]
  },
  {
   "cell_type": "markdown",
   "id": "20bcaa56-fac1-474f-9c64-76a71664e7ac",
   "metadata": {},
   "source": [
    "Pick a DataFrame to save"
   ]
  },
  {
   "cell_type": "code",
   "execution_count": 2,
   "id": "70ffea06-f1c7-45e8-9f98-46da117b8038",
   "metadata": {},
   "outputs": [
    {
     "name": "stdout",
     "output_type": "stream",
     "text": [
      "Using existing raw: api_yfinance_ASML_20250816-0017.csv\n",
      "date              datetime64[ns]\n",
      "open                     float64\n",
      "high                     float64\n",
      "low                      float64\n",
      "close                    float64\n",
      "adjusted_close           float64\n",
      "volume                     int64\n",
      "dtype: object\n"
     ]
    },
    {
     "data": {
      "text/html": [
       "<div>\n",
       "<style scoped>\n",
       "    .dataframe tbody tr th:only-of-type {\n",
       "        vertical-align: middle;\n",
       "    }\n",
       "\n",
       "    .dataframe tbody tr th {\n",
       "        vertical-align: top;\n",
       "    }\n",
       "\n",
       "    .dataframe thead th {\n",
       "        text-align: right;\n",
       "    }\n",
       "</style>\n",
       "<table border=\"1\" class=\"dataframe\">\n",
       "  <thead>\n",
       "    <tr style=\"text-align: right;\">\n",
       "      <th></th>\n",
       "      <th>date</th>\n",
       "      <th>open</th>\n",
       "      <th>high</th>\n",
       "      <th>low</th>\n",
       "      <th>close</th>\n",
       "      <th>adjusted_close</th>\n",
       "      <th>volume</th>\n",
       "    </tr>\n",
       "  </thead>\n",
       "  <tbody>\n",
       "    <tr>\n",
       "      <th>0</th>\n",
       "      <td>2020-08-17</td>\n",
       "      <td>376.660004</td>\n",
       "      <td>380.500000</td>\n",
       "      <td>376.250000</td>\n",
       "      <td>378.510010</td>\n",
       "      <td>364.919250</td>\n",
       "      <td>428200</td>\n",
       "    </tr>\n",
       "    <tr>\n",
       "      <th>1</th>\n",
       "      <td>2020-08-18</td>\n",
       "      <td>383.609985</td>\n",
       "      <td>383.980011</td>\n",
       "      <td>376.989990</td>\n",
       "      <td>377.220001</td>\n",
       "      <td>363.675568</td>\n",
       "      <td>466500</td>\n",
       "    </tr>\n",
       "    <tr>\n",
       "      <th>2</th>\n",
       "      <td>2020-08-19</td>\n",
       "      <td>380.390015</td>\n",
       "      <td>380.429993</td>\n",
       "      <td>373.959991</td>\n",
       "      <td>374.940002</td>\n",
       "      <td>361.477417</td>\n",
       "      <td>354400</td>\n",
       "    </tr>\n",
       "    <tr>\n",
       "      <th>3</th>\n",
       "      <td>2020-08-20</td>\n",
       "      <td>369.540009</td>\n",
       "      <td>373.380005</td>\n",
       "      <td>368.380005</td>\n",
       "      <td>372.170013</td>\n",
       "      <td>358.806976</td>\n",
       "      <td>498200</td>\n",
       "    </tr>\n",
       "    <tr>\n",
       "      <th>4</th>\n",
       "      <td>2020-08-21</td>\n",
       "      <td>366.149994</td>\n",
       "      <td>372.130005</td>\n",
       "      <td>365.540009</td>\n",
       "      <td>372.119995</td>\n",
       "      <td>358.758667</td>\n",
       "      <td>605400</td>\n",
       "    </tr>\n",
       "  </tbody>\n",
       "</table>\n",
       "</div>"
      ],
      "text/plain": [
       "        date        open        high         low       close  adjusted_close  \\\n",
       "0 2020-08-17  376.660004  380.500000  376.250000  378.510010      364.919250   \n",
       "1 2020-08-18  383.609985  383.980011  376.989990  377.220001      363.675568   \n",
       "2 2020-08-19  380.390015  380.429993  373.959991  374.940002      361.477417   \n",
       "3 2020-08-20  369.540009  373.380005  368.380005  372.170013      358.806976   \n",
       "4 2020-08-21  366.149994  372.130005  365.540009  372.119995      358.758667   \n",
       "\n",
       "   volume  \n",
       "0  428200  \n",
       "1  466500  \n",
       "2  354400  \n",
       "3  498200  \n",
       "4  605400  "
      ]
     },
     "execution_count": 2,
     "metadata": {},
     "output_type": "execute_result"
    }
   ],
   "source": [
    "# Try to load the latest API CSV you saved in Stage 04\n",
    "candidates = sorted(RAW_DIR.glob(\"api_*ASML_*.csv\"))\n",
    "if candidates:\n",
    "    latest_raw = candidates[-1]\n",
    "    print(\"Using existing raw:\", latest_raw.name)\n",
    "    df = pd.read_csv(latest_raw, parse_dates=[\"date\"])\n",
    "else:\n",
    "    # Fallback sample (if no API file found)\n",
    "    print(\"No ASML raw CSV found; using a small sample DF\")\n",
    "    df = pd.DataFrame({\n",
    "        \"date\": pd.date_range(\"2024-01-01\", periods=5, freq=\"D\"),\n",
    "        \"open\": [1,2,3,4,5],\n",
    "        \"high\": [1.1,2.2,3.3,4.4,5.5],\n",
    "        \"low\":  [0.9,1.8,2.7,3.6,4.5],\n",
    "        \"close\":[1.0,2.1,3.2,4.3,5.4],\n",
    "        \"adjusted_close\":[1.0,2.1,3.2,4.3,5.4],\n",
    "        \"volume\":[100,120,110,90,80],\n",
    "    })\n",
    "print(df.dtypes)\n",
    "df.head()\n"
   ]
  },
  {
   "cell_type": "markdown",
   "id": "599b0ed1-b62a-48dd-8a0e-b9e982f010de",
   "metadata": {},
   "source": [
    "Save to CSV (raw) and Parquet (processed)"
   ]
  },
  {
   "cell_type": "code",
   "execution_count": 3,
   "id": "fccccb25-ed92-444d-a21e-36e7bb3b326b",
   "metadata": {},
   "outputs": [
    {
     "data": {
      "text/plain": [
       "(WindowsPath('C:/Users/melin/OneDrive/Desktop/nyu/python/bootcamp_panagiotis_housos/project/data/raw/sample_20250816-0041.csv'),\n",
       " WindowsPath('C:/Users/melin/OneDrive/Desktop/nyu/python/bootcamp_panagiotis_housos/project/data/processed/sample_20250816-0041.parquet'))"
      ]
     },
     "execution_count": 3,
     "metadata": {},
     "output_type": "execute_result"
    }
   ],
   "source": [
    "csv_path = RAW_DIR / f\"sample_{stamp()}.csv\"\n",
    "parq_path = PROC_DIR / f\"sample_{stamp()}.parquet\"\n",
    "\n",
    "# Save\n",
    "write_df(df, csv_path)\n",
    "write_df(df, parq_path)\n",
    "\n",
    "csv_path, parq_path\n"
   ]
  },
  {
   "cell_type": "markdown",
   "id": "86bb906b-31fd-4f79-8646-31eb3cff3dda",
   "metadata": {},
   "source": [
    "Reload both & validate"
   ]
  },
  {
   "cell_type": "code",
   "execution_count": 4,
   "id": "0a11aef8-f42e-4f25-8633-96fdee61a7c3",
   "metadata": {},
   "outputs": [
    {
     "name": "stdout",
     "output_type": "stream",
     "text": [
      "shapes: (1256, 7) (1256, 7) (1256, 7)\n",
      "dtypes (CSV):\n",
      " date              datetime64[ns]\n",
      "open                     float64\n",
      "high                     float64\n",
      "low                      float64\n",
      "close                    float64\n",
      "adjusted_close           float64\n",
      "volume                     int64\n",
      "dtype: object\n",
      "dtypes (PARQ):\n",
      " date              datetime64[ns]\n",
      "open                     float64\n",
      "high                     float64\n",
      "low                      float64\n",
      "close                    float64\n",
      "adjusted_close           float64\n",
      "volume                     int64\n",
      "dtype: object\n"
     ]
    },
    {
     "data": {
      "text/plain": [
       "{'shape_match_csv': True,\n",
       " 'shape_match_parq': True,\n",
       " 'date_is_datetime_csv': True,\n",
       " 'date_is_datetime_parq': True,\n",
       " 'numeric_cols_csv_ok': True,\n",
       " 'numeric_cols_parq_ok': True}"
      ]
     },
     "execution_count": 4,
     "metadata": {},
     "output_type": "execute_result"
    }
   ],
   "source": [
    "# Reload (CSV needs parse_dates to preserve 'date' dtype)\n",
    "df_csv = read_df(csv_path, parse_dates=[\"date\"])\n",
    "df_parq = read_df(parq_path)\n",
    "\n",
    "print(\"shapes:\", df.shape, df_csv.shape, df_parq.shape)\n",
    "print(\"dtypes (CSV):\\n\", df_csv.dtypes)\n",
    "print(\"dtypes (PARQ):\\n\", df_parq.dtypes)\n",
    "\n",
    "# Simple validation summary\n",
    "def validate_reload(original: pd.DataFrame, re_csv: pd.DataFrame, re_parq: pd.DataFrame, date_col: str=\"date\"):\n",
    "    msgs = {}\n",
    "    msgs[\"shape_match_csv\"]  = (original.shape == re_csv.shape)\n",
    "    msgs[\"shape_match_parq\"] = (original.shape == re_parq.shape)\n",
    "    msgs[\"date_is_datetime_csv\"]  = (str(re_csv[date_col].dtype).startswith(\"datetime\")) if date_col in re_csv.columns else None\n",
    "    msgs[\"date_is_datetime_parq\"] = (str(re_parq[date_col].dtype).startswith(\"datetime\")) if date_col in re_parq.columns else None\n",
    "    # Optional: check numeric columns stay numeric\n",
    "    num_cols = original.select_dtypes(\"number\").columns.tolist()\n",
    "    msgs[\"numeric_cols_csv_ok\"]  = all(pd.api.types.is_numeric_dtype(re_csv[c])  for c in num_cols if c in re_csv.columns)\n",
    "    msgs[\"numeric_cols_parq_ok\"] = all(pd.api.types.is_numeric_dtype(re_parq[c]) for c in num_cols if c in re_parq.columns)\n",
    "    return msgs\n",
    "\n",
    "validation = validate_reload(df, df_csv, df_parq)\n",
    "validation\n"
   ]
  },
  {
   "cell_type": "code",
   "execution_count": null,
   "id": "8546a4c7-5691-470b-a12a-280769f7fe7b",
   "metadata": {},
   "outputs": [],
   "source": []
  }
 ],
 "metadata": {
  "kernelspec": {
   "display_name": "Python (ASML env)",
   "language": "python",
   "name": "asml-project"
  },
  "language_info": {
   "codemirror_mode": {
    "name": "ipython",
    "version": 3
   },
   "file_extension": ".py",
   "mimetype": "text/x-python",
   "name": "python",
   "nbconvert_exporter": "python",
   "pygments_lexer": "ipython3",
   "version": "3.12.5"
  }
 },
 "nbformat": 4,
 "nbformat_minor": 5
}
