{
 "cells": [
  {
   "cell_type": "markdown",
   "id": "683dbfce",
   "metadata": {},
   "source": [
    "# HW03 — Python Fundamentals\n",
    "NumPy ops, dataset load/inspect, summary stats, groupby, save outputs, reusable function."
   ]
  },
  {
   "cell_type": "markdown",
   "id": "39aa2c42",
   "metadata": {},
   "source": [
    "Imports & paths"
   ]
  },
  {
   "cell_type": "code",
   "execution_count": null,
   "id": "ea72c1c1-ea7d-4ca9-b014-14e7e384546c",
   "metadata": {},
   "outputs": [
    {
     "name": "stdout",
     "output_type": "stream",
     "text": [
      "Project root: C:\\Users\\melin\\OneDrive\\Desktop\\nyu\\python\\bootcamp_panagiotis_housos\\project\n",
      "Input CSV exists: True\n"
     ]
    }
   ],
   "source": [
    "import os, sys, time\n",
    "from pathlib import Path\n",
    "\n",
    "# When running from project/notebooks, project_root is the parent folder\n",
    "project_root = Path.cwd().resolve().parents[0] if Path.cwd().name == \"notebooks\" else Path.cwd().resolve()\n",
    "sys.path.append(str(project_root / \"src\"))\n",
    "\n",
    "import numpy as np\n",
    "import pandas as pd\n",
    "\n",
    "DATA_PATH = project_root / \"data\"\n",
    "PROCESSED_PATH = DATA_PATH / \"processed\"\n",
    "CSV_IN = DATA_PATH / \"starter_data.csv\"\n",
    "CSV_OUT = PROCESSED_PATH / \"summary.csv\"\n",
    "\n",
    "print(\"Project root:\", project_root)\n",
    "print(\"Input CSV exists:\", CSV_IN.exists())"
   ]
  },
  {
   "cell_type": "markdown",
   "id": "30efa685",
   "metadata": {},
   "source": [
    "Step 1: NumPy (loop vs vectorized)"
   ]
  },
  {
   "cell_type": "code",
   "execution_count": 2,
   "id": "0ba5d3f6",
   "metadata": {},
   "outputs": [
    {
     "name": "stdout",
     "output_type": "stream",
     "text": [
      "Loop time: 0.0283s\n",
      "Vectorized time: 0.0024s\n",
      "First 3 (loop): [np.float64(5.0), np.float64(6.23), np.float64(7.46)]\n",
      "First 3 (vec):  [5.   6.23 7.46]\n"
     ]
    }
   ],
   "source": [
    "arr = np.arange(1_000_00, dtype=np.float64)  # 100k for quick demo\n",
    "\n",
    "t0 = time.perf_counter()\n",
    "loop_res = [x * 1.23 + 5 for x in arr]\n",
    "t1 = time.perf_counter()\n",
    "\n",
    "t2 = time.perf_counter()\n",
    "vec_res = arr * 1.23 + 5\n",
    "t3 = time.perf_counter()\n",
    "\n",
    "print(f\"Loop time: {(t1 - t0):.4f}s\")\n",
    "print(f\"Vectorized time: {(t3 - t2):.4f}s\")\n",
    "print(\"First 3 (loop):\", loop_res[:3])\n",
    "print(\"First 3 (vec): \", vec_res[:3])"
   ]
  },
  {
   "cell_type": "markdown",
   "id": "f4097eae",
   "metadata": {},
   "source": [
    "Step 2: Load & inspect CSV"
   ]
  },
  {
   "cell_type": "code",
   "execution_count": 3,
   "id": "18496388",
   "metadata": {},
   "outputs": [
    {
     "name": "stdout",
     "output_type": "stream",
     "text": [
      "Shape: (10, 3)\n"
     ]
    },
    {
     "data": {
      "text/html": [
       "<div>\n",
       "<style scoped>\n",
       "    .dataframe tbody tr th:only-of-type {\n",
       "        vertical-align: middle;\n",
       "    }\n",
       "\n",
       "    .dataframe tbody tr th {\n",
       "        vertical-align: top;\n",
       "    }\n",
       "\n",
       "    .dataframe thead th {\n",
       "        text-align: right;\n",
       "    }\n",
       "</style>\n",
       "<table border=\"1\" class=\"dataframe\">\n",
       "  <thead>\n",
       "    <tr style=\"text-align: right;\">\n",
       "      <th></th>\n",
       "      <th>category</th>\n",
       "      <th>value</th>\n",
       "      <th>date</th>\n",
       "    </tr>\n",
       "  </thead>\n",
       "  <tbody>\n",
       "    <tr>\n",
       "      <th>0</th>\n",
       "      <td>A</td>\n",
       "      <td>10</td>\n",
       "      <td>2025-08-01</td>\n",
       "    </tr>\n",
       "    <tr>\n",
       "      <th>1</th>\n",
       "      <td>B</td>\n",
       "      <td>15</td>\n",
       "      <td>2025-08-02</td>\n",
       "    </tr>\n",
       "    <tr>\n",
       "      <th>2</th>\n",
       "      <td>A</td>\n",
       "      <td>12</td>\n",
       "      <td>2025-08-03</td>\n",
       "    </tr>\n",
       "    <tr>\n",
       "      <th>3</th>\n",
       "      <td>B</td>\n",
       "      <td>18</td>\n",
       "      <td>2025-08-04</td>\n",
       "    </tr>\n",
       "    <tr>\n",
       "      <th>4</th>\n",
       "      <td>C</td>\n",
       "      <td>25</td>\n",
       "      <td>2025-08-05</td>\n",
       "    </tr>\n",
       "  </tbody>\n",
       "</table>\n",
       "</div>"
      ],
      "text/plain": [
       "  category  value        date\n",
       "0        A     10  2025-08-01\n",
       "1        B     15  2025-08-02\n",
       "2        A     12  2025-08-03\n",
       "3        B     18  2025-08-04\n",
       "4        C     25  2025-08-05"
      ]
     },
     "metadata": {},
     "output_type": "display_data"
    },
    {
     "name": "stdout",
     "output_type": "stream",
     "text": [
      "<class 'pandas.core.frame.DataFrame'>\n",
      "RangeIndex: 10 entries, 0 to 9\n",
      "Data columns (total 3 columns):\n",
      " #   Column    Non-Null Count  Dtype \n",
      "---  ------    --------------  ----- \n",
      " 0   category  10 non-null     object\n",
      " 1   value     10 non-null     int64 \n",
      " 2   date      10 non-null     object\n",
      "dtypes: int64(1), object(2)\n",
      "memory usage: 372.0+ bytes\n"
     ]
    }
   ],
   "source": [
    "df = pd.read_csv(CSV_IN)\n",
    "\n",
    "print(\"Shape:\", df.shape)\n",
    "display(df.head())      # .head()\n",
    "df_info = df.info()     # .info()"
   ]
  },
  {
   "cell_type": "markdown",
   "id": "a0c4c648",
   "metadata": {},
   "source": [
    "Step 3: Summary statistics"
   ]
  },
  {
   "cell_type": "code",
   "execution_count": 5,
   "id": "504dce05",
   "metadata": {},
   "outputs": [
    {
     "data": {
      "text/html": [
       "<div>\n",
       "<style scoped>\n",
       "    .dataframe tbody tr th:only-of-type {\n",
       "        vertical-align: middle;\n",
       "    }\n",
       "\n",
       "    .dataframe tbody tr th {\n",
       "        vertical-align: top;\n",
       "    }\n",
       "\n",
       "    .dataframe thead th {\n",
       "        text-align: right;\n",
       "    }\n",
       "</style>\n",
       "<table border=\"1\" class=\"dataframe\">\n",
       "  <thead>\n",
       "    <tr style=\"text-align: right;\">\n",
       "      <th></th>\n",
       "      <th>value</th>\n",
       "    </tr>\n",
       "  </thead>\n",
       "  <tbody>\n",
       "    <tr>\n",
       "      <th>count</th>\n",
       "      <td>10.000000</td>\n",
       "    </tr>\n",
       "    <tr>\n",
       "      <th>mean</th>\n",
       "      <td>17.600000</td>\n",
       "    </tr>\n",
       "    <tr>\n",
       "      <th>std</th>\n",
       "      <td>7.381659</td>\n",
       "    </tr>\n",
       "    <tr>\n",
       "      <th>min</th>\n",
       "      <td>10.000000</td>\n",
       "    </tr>\n",
       "    <tr>\n",
       "      <th>25%</th>\n",
       "      <td>12.250000</td>\n",
       "    </tr>\n",
       "    <tr>\n",
       "      <th>50%</th>\n",
       "      <td>14.500000</td>\n",
       "    </tr>\n",
       "    <tr>\n",
       "      <th>75%</th>\n",
       "      <td>23.250000</td>\n",
       "    </tr>\n",
       "    <tr>\n",
       "      <th>max</th>\n",
       "      <td>30.000000</td>\n",
       "    </tr>\n",
       "  </tbody>\n",
       "</table>\n",
       "</div>"
      ],
      "text/plain": [
       "           value\n",
       "count  10.000000\n",
       "mean   17.600000\n",
       "std     7.381659\n",
       "min    10.000000\n",
       "25%    12.250000\n",
       "50%    14.500000\n",
       "75%    23.250000\n",
       "max    30.000000"
      ]
     },
     "metadata": {},
     "output_type": "display_data"
    }
   ],
   "source": [
    "summary = df.describe()\n",
    "display(summary)\n"
   ]
  },
  {
   "cell_type": "code",
   "execution_count": 13,
   "id": "49d3e170",
   "metadata": {},
   "outputs": [
    {
     "name": "stdout",
     "output_type": "stream",
     "text": [
      "pandas version: 2.3.1\n",
      "category    object\n",
      "value        int64\n",
      "date        object\n",
      "dtype: object\n",
      "Candidate categorical columns: ['category', 'date']\n",
      "Numeric columns used for aggregation: ['value']\n"
     ]
    }
   ],
   "source": [
    "import pandas as pd, numpy as np\n",
    "\n",
    "print(\"pandas version:\", pd.__version__)\n",
    "print(df.dtypes)\n",
    "\n",
    "# detect candidate categorical columns (strings/categories)\n",
    "cat_cols = [c for c in df.columns if df[c].dtype == \"object\" or str(df[c].dtype).startswith(\"category\")]\n",
    "print(\"Candidate categorical columns:\", cat_cols)\n",
    "\n",
    "# strictly numeric columns only\n",
    "num_cols = df.select_dtypes(include=[np.number]).columns.tolist()\n",
    "print(\"Numeric columns used for aggregation:\", num_cols)\n"
   ]
  },
  {
   "cell_type": "markdown",
   "id": "d8f4565c",
   "metadata": {},
   "source": [
    "Step 3: Groupby by category"
   ]
  },
  {
   "cell_type": "code",
   "execution_count": 14,
   "id": "29dd7b37",
   "metadata": {},
   "outputs": [
    {
     "data": {
      "text/html": [
       "<div>\n",
       "<style scoped>\n",
       "    .dataframe tbody tr th:only-of-type {\n",
       "        vertical-align: middle;\n",
       "    }\n",
       "\n",
       "    .dataframe tbody tr th {\n",
       "        vertical-align: top;\n",
       "    }\n",
       "\n",
       "    .dataframe thead th {\n",
       "        text-align: right;\n",
       "    }\n",
       "</style>\n",
       "<table border=\"1\" class=\"dataframe\">\n",
       "  <thead>\n",
       "    <tr style=\"text-align: right;\">\n",
       "      <th></th>\n",
       "      <th>category</th>\n",
       "      <th>value</th>\n",
       "    </tr>\n",
       "  </thead>\n",
       "  <tbody>\n",
       "    <tr>\n",
       "      <th>0</th>\n",
       "      <td>A</td>\n",
       "      <td>11.500000</td>\n",
       "    </tr>\n",
       "    <tr>\n",
       "      <th>1</th>\n",
       "      <td>B</td>\n",
       "      <td>15.666667</td>\n",
       "    </tr>\n",
       "    <tr>\n",
       "      <th>2</th>\n",
       "      <td>C</td>\n",
       "      <td>27.666667</td>\n",
       "    </tr>\n",
       "  </tbody>\n",
       "</table>\n",
       "</div>"
      ],
      "text/plain": [
       "  category      value\n",
       "0        A  11.500000\n",
       "1        B  15.666667\n",
       "2        C  27.666667"
      ]
     },
     "metadata": {},
     "output_type": "display_data"
    }
   ],
   "source": [
    "import numpy as np\n",
    "\n",
    "cat_col = \"category\"              # <-- pick the categorical column (not \"date\")\n",
    "num_cols = [\"value\"]              # <-- the numeric column(s)\n",
    "\n",
    "grouped = (\n",
    "    df[[cat_col] + num_cols]\n",
    "    .groupby(cat_col, dropna=False)[num_cols]\n",
    "    .mean()\n",
    "    .reset_index()\n",
    ")\n",
    "display(grouped)\n"
   ]
  },
  {
   "cell_type": "code",
   "execution_count": 15,
   "id": "3701af85",
   "metadata": {},
   "outputs": [
    {
     "data": {
      "text/html": [
       "<div>\n",
       "<style scoped>\n",
       "    .dataframe tbody tr th:only-of-type {\n",
       "        vertical-align: middle;\n",
       "    }\n",
       "\n",
       "    .dataframe tbody tr th {\n",
       "        vertical-align: top;\n",
       "    }\n",
       "\n",
       "    .dataframe thead th {\n",
       "        text-align: right;\n",
       "    }\n",
       "</style>\n",
       "<table border=\"1\" class=\"dataframe\">\n",
       "  <thead>\n",
       "    <tr style=\"text-align: right;\">\n",
       "      <th></th>\n",
       "      <th>value</th>\n",
       "    </tr>\n",
       "  </thead>\n",
       "  <tbody>\n",
       "    <tr>\n",
       "      <th>count</th>\n",
       "      <td>10.000000</td>\n",
       "    </tr>\n",
       "    <tr>\n",
       "      <th>mean</th>\n",
       "      <td>17.600000</td>\n",
       "    </tr>\n",
       "    <tr>\n",
       "      <th>std</th>\n",
       "      <td>7.381659</td>\n",
       "    </tr>\n",
       "    <tr>\n",
       "      <th>min</th>\n",
       "      <td>10.000000</td>\n",
       "    </tr>\n",
       "    <tr>\n",
       "      <th>25%</th>\n",
       "      <td>12.250000</td>\n",
       "    </tr>\n",
       "    <tr>\n",
       "      <th>50%</th>\n",
       "      <td>14.500000</td>\n",
       "    </tr>\n",
       "    <tr>\n",
       "      <th>75%</th>\n",
       "      <td>23.250000</td>\n",
       "    </tr>\n",
       "    <tr>\n",
       "      <th>max</th>\n",
       "      <td>30.000000</td>\n",
       "    </tr>\n",
       "  </tbody>\n",
       "</table>\n",
       "</div>"
      ],
      "text/plain": [
       "           value\n",
       "count  10.000000\n",
       "mean   17.600000\n",
       "std     7.381659\n",
       "min    10.000000\n",
       "25%    12.250000\n",
       "50%    14.500000\n",
       "75%    23.250000\n",
       "max    30.000000"
      ]
     },
     "metadata": {},
     "output_type": "display_data"
    }
   ],
   "source": [
    "summary = df.select_dtypes(include=[np.number]).describe()\n",
    "display(summary)\n"
   ]
  },
  {
   "cell_type": "markdown",
   "id": "05579ae2",
   "metadata": {},
   "source": [
    "Step 4: Save outputs (+ basic plot)"
   ]
  },
  {
   "cell_type": "code",
   "execution_count": 16,
   "id": "37150ef4",
   "metadata": {},
   "outputs": [
    {
     "name": "stdout",
     "output_type": "stream",
     "text": [
      "Saved: C:\\Users\\melin\\OneDrive\\Desktop\\nyu\\python\\bootcamp_panagiotis_housos\\project\\data\\processed\\summary.csv\n",
      "Saved: C:\\Users\\melin\\OneDrive\\Desktop\\nyu\\python\\bootcamp_panagiotis_housos\\project\\data\\processed\\summary.json\n"
     ]
    },
    {
     "data": {
      "image/png": "[encoded data removed]",
      "text/plain": [
       "<Figure size 640x480 with 1 Axes>"
      ]
     },
     "metadata": {},
     "output_type": "display_data"
    },
    {
     "name": "stdout",
     "output_type": "stream",
     "text": [
      "Saved: C:\\Users\\melin\\OneDrive\\Desktop\\nyu\\python\\bootcamp_panagiotis_housos\\project\\data\\processed\\hist.png\n"
     ]
    }
   ],
   "source": [
    "from pathlib import Path\n",
    "import matplotlib.pyplot as plt\n",
    "\n",
    "PROCESSED_PATH = (project_root / \"data\" / \"processed\")\n",
    "PROCESSED_PATH.mkdir(parents=True, exist_ok=True)\n",
    "\n",
    "# Save summary\n",
    "summary.to_csv(PROCESSED_PATH / \"summary.csv\", index=True)\n",
    "summary.to_json(PROCESSED_PATH / \"summary.json\", orient=\"table\")\n",
    "print(\"Saved:\", PROCESSED_PATH / \"summary.csv\")\n",
    "print(\"Saved:\", PROCESSED_PATH / \"summary.json\")\n",
    "\n",
    "# Bonus: histogram of 'value'\n",
    "ax = df[\"value\"].hist(bins=30)\n",
    "ax.set_title(\"Histogram of value\")\n",
    "ax.set_xlabel(\"value\")\n",
    "ax.set_ylabel(\"count\")\n",
    "ax.get_figure().savefig(PROCESSED_PATH / \"hist.png\", bbox_inches=\"tight\")\n",
    "plt.show()\n",
    "print(\"Saved:\", PROCESSED_PATH / \"hist.png\")"
   ]
  },
  {
   "cell_type": "markdown",
   "id": "ac3e2519",
   "metadata": {},
   "source": [
    "Step 5: Reusable function "
   ]
  },
  {
   "cell_type": "code",
   "execution_count": 20,
   "id": "09083e8f",
   "metadata": {},
   "outputs": [],
   "source": [
    "# project/src/utils.py\n",
    "from __future__ import annotations\n",
    "import numpy as np\n",
    "import pandas as pd\n",
    "\n",
    "def get_summary_stats(\n",
    "    df: pd.DataFrame,\n",
    "    by: str | None = None,\n",
    "    agg: str | list[str] | dict[str, str] = \"mean\",\n",
    "    keep_na_groups: bool = True,\n",
    ") -> tuple[pd.DataFrame, pd.DataFrame | None]:\n",
    "    \n",
    "    # Select numeric columns explicitly (version-safe)\n",
    "    numeric_cols = df.select_dtypes(include=[np.number]).columns.tolist()\n",
    "\n",
    "    # Summary over numeric columns (empty DF if no numeric cols)\n",
    "    summary = df[numeric_cols].describe() if numeric_cols else pd.DataFrame()\n",
    "\n",
    "    grouped = None\n",
    "    if by is not None:\n",
    "        if by not in df.columns:\n",
    "            raise KeyError(f\"Column '{by}' not found in DataFrame.\")\n",
    "        if numeric_cols:\n",
    "            # Restrict to group key + numeric columns, then aggregate\n",
    "            to_agg = df[[by] + numeric_cols].copy()\n",
    "            grouped = (\n",
    "                to_agg.groupby(by, dropna=not keep_na_groups)[numeric_cols]\n",
    "                .agg(agg)\n",
    "                .reset_index()\n",
    "            )\n",
    "        else:\n",
    "            grouped = None  # nothing numeric to aggregate\n",
    "\n",
    "    return summary, grouped\n",
    "\n"
   ]
  },
  {
   "cell_type": "code",
   "execution_count": null,
   "id": "fed2cee9",
   "metadata": {},
   "outputs": [],
   "source": [
    "from utils import get_summary_stats\n",
    "\n",
    "summary, grouped = get_summary_stats(df, by=\"category\")  # or by=None\n",
    "display(summary)\n",
    "if grouped is not None:\n",
    "    display(grouped)"
   ]
  }
 ],
 "metadata": {
  "kernelspec": {
   "display_name": "Python 3 (ipykernel)",
   "language": "python",
   "name": "python3"
  },
  "language_info": {
   "codemirror_mode": {
    "name": "ipython",
    "version": 3
   },
   "file_extension": ".py",
   "mimetype": "text/x-python",
   "name": "python",
   "nbconvert_exporter": "python",
   "pygments_lexer": "ipython3",
   "version": "3.12.5"
  }
 },
 "nbformat": 4,
 "nbformat_minor": 5
}
